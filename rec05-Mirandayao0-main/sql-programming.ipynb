{
 "cells": [
  {
   "cell_type": "markdown",
   "metadata": {},
   "source": [
    "# CS 1656 – Introduction to Data Science \n",
    "\n",
    "## Instructor: Alexandros Labrinidis\n",
    "## Teaching Assistants: Evangelos Karageorgos, Xiaoting Li, Zi Han Ding\n",
    "### Additional credits: Tahereh Arabghalizi, Zuha Agha, Anatoli Shein, Phuong Pham\n",
    "## Recitation : SQL via Data API\n",
    "---\n",
    "In this recitation, you will execute SQL queries on real data by connecting to the open data portal of [Western Pennsylavnia Regional Data Center](https://www.wprdc.org/) and requesting data via API calls.  "
   ]
  },
  {
   "cell_type": "code",
   "execution_count": null,
   "metadata": {},
   "outputs": [],
   "source": [
    "import json\n",
    "from datetime import datetime, timedelta, date\n",
    "import requests\n",
    "import pandas as pd\n",
    "import matplotlib.pyplot as plt\n",
    "\n",
    "%matplotlib inline"
   ]
  },
  {
   "cell_type": "markdown",
   "metadata": {},
   "source": [
    "We will be using Allegheny County Restaurant/Food Facility Inspection Violation Dataset found here https://data.wprdc.org/dataset/allegheny-county-restaurant-food-facility-inspection-violations. This dataset contains violation data from actual routine inspections by one of health department staff's members for the last two years. It should be fun to find out inspection results for places where we eat in Pittsburgh! =)"
   ]
  },
  {
   "cell_type": "code",
   "execution_count": null,
   "metadata": {},
   "outputs": [],
   "source": [
    "wprdc_api_endpoint = \"https://data.wprdc.org/api/3/action/datastore_search_sql\"\n",
    "\n",
    "# id for database table\n",
    "resource_id = \"1a1329e2-418c-4bd3-af2c-cc334e7559af\"\n",
    "\n",
    "# Get the date from 270 days ago)\n",
    "# end_date = datetime.now()\n",
    "# start_date = end_date - timedelta(days=270)\n",
    "\n",
    "# Get two date endpoints\n",
    "start_date = date(2021, 9, 1)\n",
    "end_date = date(2022, 6, 1)\n",
    "\n",
    "# Convert to a string the format the the data center accepts (yyyy-mm-dd)\n",
    "start_str = start_date.strftime(\"%Y-%m-%d\")\n",
    "end_str = end_date.strftime(\"%Y-%m-%d\")\n",
    "\n",
    "# SQL query we'll use in API call to request data\n",
    "query = \"\"\"\n",
    "SELECT *\n",
    "FROM \"{}\"\n",
    "WHERE \"inspect_dt\" BETWEEN '{}' and '{}' AND \"city\" = '{}'\"\"\".format(resource_id, start_str, end_str, \"Pittsburgh\")\n",
    "\n",
    "# Make WPRDC API Call\n",
    "response = requests.get(wprdc_api_endpoint, {'sql': query}, verify=False)\n",
    "\n",
    "# Parse response JSON into python dictionary\n",
    "response_data = json.loads(response.text)\n",
    "\n",
    "# Convert dictionary to dataframe\n",
    "df = pd.DataFrame.from_dict(response_data['result']['records'])\n",
    "\n",
    "# Print the number of rows\n",
    "print(df.shape[0], \"rows total\")\n",
    "print(df.columns)\n",
    "df.head()\n"
   ]
  },
  {
   "cell_type": "markdown",
   "metadata": {},
   "source": [
    "Details of useful dataset attributes are below. ((Taken from https://data.wprdc.org/dataset/allegheny-county-restaurant-food-facility-inspection-violations/resource/1a1329e2-418c-4bd3-af2c-cc334e7559af)\n",
    "\n",
    "* __facility_name__: the name of the facility\n",
    "* __description__: Facility category\n",
    "* __description_new__: The name of the potential violation\n",
    "* __inspect_dt__: Date/time of the inspection\n",
    "* __rating__: The result of the inspection ('V' for violation, other for non-violation)\n",
    "* The health risk of a potential violation\n",
    " * __low__: low risk\n",
    " * __medium__: medium risk\n",
    " * __high__: high risk\n",
    "* The address of the facility\n",
    " * __city__: The city\n",
    " * __state__: The state\n",
    " * __street__: The street\n",
    " * __num__: The street number\n",
    " * __zip__: The zip code"
   ]
  },
  {
   "cell_type": "markdown",
   "metadata": {},
   "source": [
    "## Queries\n",
    "\n",
    "__Q1) Find all unique decription categories of violation in Pittsburgh restaurants over the time span (violation description[violation]).__"
   ]
  },
  {
   "cell_type": "code",
   "execution_count": null,
   "metadata": {},
   "outputs": [],
   "source": [
    "query = \"\"\"\n",
    "SELECT DISTINCT \"description_new\" as violation\n",
    "FROM \"{}\"\n",
    "WHERE \"inspect_dt\" BETWEEN '{}' and '{}' AND \"city\" = '{}' \"\"\".format(resource_id, start_str, end_str, \"Pittsburgh\")\n",
    "\n",
    "response = requests.get(wprdc_api_endpoint, {'sql': query}, verify=False)\n",
    "\n",
    "df = pd.DataFrame.from_dict(json.loads(response.text)['result']['records'])\n",
    "\n",
    "df"
   ]
  },
  {
   "cell_type": "markdown",
   "metadata": {},
   "source": [
    "__Q2) Find restaurants in Pittsburgh with no violations in at least one decription category (facility name[facility], number of violations[count]). NOTE: a facility has a violation if the inspection rating has the value 'V'.__"
   ]
  },
  {
   "cell_type": "code",
   "execution_count": null,
   "metadata": {
    "scrolled": false
   },
   "outputs": [],
   "source": [
    "query = \"\"\"\n",
    "SELECT \"facility_name\" as facility, COUNT(\"description_new\") as count\n",
    "FROM \"{}\"\n",
    "WHERE \"inspect_dt\" BETWEEN '{}' and '{}' AND \"city\" = '{}' AND \"rating\" <> '{}'\n",
    "GROUP BY \"facility_name\" \"\"\".format(resource_id, start_str, end_str, \"Pittsburgh\", \"V\")\n",
    "\n",
    "response = requests.get(wprdc_api_endpoint, {'sql': query}, verify=False)\n",
    "\n",
    "df = pd.DataFrame.from_dict(json.loads(response.text)['result']['records'])\n",
    "\n",
    "df"
   ]
  },
  {
   "cell_type": "markdown",
   "metadata": {},
   "source": [
    "# Tasks\n",
    "\n",
    "__Tasks 1 to 4 must be implemented in Task.py.__\n",
    "\n",
    "__For all tasks, we want the results in Pittsburgh, over the specified time span, and all queries are about violations (rating is 'V').__\n",
    "\n",
    "__As the API returns the results as a list of dictionaries, the order of the query columns is irrelevant.__\n"
   ]
  },
  {
   "cell_type": "markdown",
   "metadata": {},
   "source": [
    "__T1) Find the top 20 facilities that start with 'Pitt' and have the highest counts of violations _(facility name[facility], number of violations[count])_.__"
   ]
  },
  {
   "cell_type": "code",
   "execution_count": null,
   "metadata": {},
   "outputs": [],
   "source": []
  },
  {
   "cell_type": "markdown",
   "metadata": {},
   "source": [
    "__T2) Find the top 18 restaurants with the maximum number of violations _(facility name[facility], number of violations[count])_. Include all results in case of a tie (For example, if the 18th top restaurant has 10 violations, incude all other restaurants with 10 violations). HINT: You will need an extra query to get the tie-breaker value.__"
   ]
  },
  {
   "cell_type": "code",
   "execution_count": null,
   "metadata": {
    "scrolled": false
   },
   "outputs": [],
   "source": []
  },
  {
   "cell_type": "markdown",
   "metadata": {},
   "source": [
    "__T3) Find the facilities that start with 'Pitt' and have violations over the time span _(violation description[violation], number of facilities[count], facility names[facilities])_. The _facilities_ field must be a concatenation of all facility names, in alphabetical order, seperated by a comma and a space (', ').__"
   ]
  },
  {
   "cell_type": "code",
   "execution_count": null,
   "metadata": {
    "scrolled": false
   },
   "outputs": [],
   "source": []
  },
  {
   "cell_type": "markdown",
   "metadata": {},
   "source": [
    "Now lets look at all facilities that contain word 'Pitt'.\n",
    "\n",
    "__T4) Find the category descriptions and their high, medium, low risk ratings for all violations at all facilities that have word 'Pitt' in their name. Note that results that contain word 'Pitt' as part of another word (e.g. 'Pittsburgh') should not be included _(facility name[facility], violation description[violation], high[high], medium[medium], low[low])_. HINT: consider _all_ edge cases for identifying 'Pitt' as a seperate word.__"
   ]
  },
  {
   "cell_type": "code",
   "execution_count": null,
   "metadata": {
    "scrolled": false
   },
   "outputs": [],
   "source": []
  }
 ],
 "metadata": {
  "anaconda-cloud": {},
  "kernelspec": {
   "display_name": "Python 3 (ipykernel)",
   "language": "python",
   "name": "python3"
  },
  "language_info": {
   "codemirror_mode": {
    "name": "ipython",
    "version": 3
   },
   "file_extension": ".py",
   "mimetype": "text/x-python",
   "name": "python",
   "nbconvert_exporter": "python",
   "pygments_lexer": "ipython3",
   "version": "3.9.7"
  }
 },
 "nbformat": 4,
 "nbformat_minor": 1
}
